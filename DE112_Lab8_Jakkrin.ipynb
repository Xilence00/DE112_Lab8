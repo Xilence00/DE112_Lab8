{
  "nbformat": 4,
  "nbformat_minor": 0,
  "metadata": {
    "colab": {
      "provenance": [],
      "collapsed_sections": []
    },
    "kernelspec": {
      "name": "python3",
      "display_name": "Python 3"
    },
    "language_info": {
      "name": "python"
    }
  },
  "cells": [
    {
      "cell_type": "markdown",
      "metadata": {
        "id": "WulpMZvqNEzA"
      },
      "source": [
        "# Lab 8 Zip and Comprehension\n",
        "\n",
        "Objectives:\n",
        "\n",
        "1. Learn how to use zip and comprehension on collection datatypes\n"
      ]
    },
    {
      "cell_type": "markdown",
      "metadata": {
        "id": "9jCAOWEAujB5"
      },
      "source": [
        "# Zip and Unzip\n",
        "The zip() function returns a zip object, which is an iterator of tuples where the first item in each passed iterator is paired together, and then the second item in each passed iterator are paired together etc.\n",
        "\n",
        "* iterate over several iterables in parallel, producing tuples with an item from each one. \n",
        "* returns an iterator of tuples, where the i-th tuple contains the i-th element from each of the argument iterables\n"
      ]
    },
    {
      "cell_type": "code",
      "source": [
        "list_a = [1,2,3,4]\n",
        "list_b = ['a','b','c','d']\n",
        "for item in zip(list_a, list_b):\n",
        "  print(item)"
      ],
      "metadata": {
        "colab": {
          "base_uri": "https://localhost:8080/"
        },
        "id": "T6r-BwQcs0A1",
        "outputId": "f3d486bb-0c48-48c9-cf05-9b01e3d084de"
      },
      "execution_count": null,
      "outputs": [
        {
          "output_type": "stream",
          "name": "stdout",
          "text": [
            "(1, 'a')\n",
            "(2, 'b')\n",
            "(3, 'c')\n",
            "(4, 'd')\n"
          ]
        }
      ]
    },
    {
      "cell_type": "code",
      "source": [
        "list_a = [1,2,3,4]\n",
        "list_b = ['a','b','c','d']\n",
        "list_c = ['i','ii','iii','iv']\n",
        "zip_obj = zip(list_a, list_b,list_c)\n",
        "for item in zip_obj:\n",
        "  print(item)"
      ],
      "metadata": {
        "colab": {
          "base_uri": "https://localhost:8080/"
        },
        "id": "S6lvTt2FsqiQ",
        "outputId": "0d2dd34c-1848-4794-dc37-7c03bf247fb3"
      },
      "execution_count": null,
      "outputs": [
        {
          "output_type": "stream",
          "name": "stdout",
          "text": [
            "(1, 'a', 'i')\n",
            "(2, 'b', 'ii')\n",
            "(3, 'c', 'iii')\n",
            "(4, 'd', 'iv')\n"
          ]
        }
      ]
    },
    {
      "cell_type": "markdown",
      "source": [
        "## zip with tuple"
      ],
      "metadata": {
        "id": "hs8AqUGKGpOl"
      }
    },
    {
      "cell_type": "code",
      "source": [
        "tuple_a = (\"John\",\"Aliane\", \"Babes\")\n",
        "list_a = [\"John\",\"Aliane\", \"Babes\"]\n",
        "for i, j in zip(tuple_a,list_a):\n",
        "  print(i,j)"
      ],
      "metadata": {
        "colab": {
          "base_uri": "https://localhost:8080/"
        },
        "id": "2OFVh7I2GpAW",
        "outputId": "004e2a59-bbd6-4057-8e6e-1b75eef3d990"
      },
      "execution_count": null,
      "outputs": [
        {
          "output_type": "stream",
          "name": "stdout",
          "text": [
            "John John\n",
            "Aliane Aliane\n",
            "Babes Babes\n"
          ]
        }
      ]
    },
    {
      "cell_type": "markdown",
      "source": [
        "## zip with set"
      ],
      "metadata": {
        "id": "aggYAk1XGLau"
      }
    },
    {
      "cell_type": "code",
      "source": [
        "set_a = {\"John\",\"Aliane\", \"Babes\"}\n",
        "list_a = [\"John\",\"Aliane\", \"Babes\"]\n",
        "for i, j in zip(set_a,list_a):\n",
        "  print(i,j)"
      ],
      "metadata": {
        "colab": {
          "base_uri": "https://localhost:8080/"
        },
        "id": "iKThg3CvCR8o",
        "outputId": "14bba258-d463-473d-cce0-114b5e162f75"
      },
      "execution_count": null,
      "outputs": [
        {
          "output_type": "stream",
          "name": "stdout",
          "text": [
            "Babes John\n",
            "Aliane Aliane\n",
            "John Babes\n"
          ]
        }
      ]
    },
    {
      "cell_type": "markdown",
      "source": [
        "##zip with dict\n"
      ],
      "metadata": {
        "id": "EmkIoAlyG6q-"
      }
    },
    {
      "cell_type": "code",
      "source": [
        "dict_a = {1:\"John\",2:\"Aliane\", 3:\"Babes\"}\n",
        "list_a = [\"John\",\"Aliane\", \"Babes\"]\n",
        "for i, j in zip(dict_a.items(),list_a):\n",
        "  print(i,j)"
      ],
      "metadata": {
        "colab": {
          "base_uri": "https://localhost:8080/"
        },
        "id": "Sn_o4qeSG-Ad",
        "outputId": "4d4bddda-4299-4c43-f89c-8d4052dc74fd"
      },
      "execution_count": null,
      "outputs": [
        {
          "output_type": "stream",
          "name": "stdout",
          "text": [
            "(1, 'John') John\n",
            "(2, 'Aliane') Aliane\n",
            "(3, 'Babes') Babes\n"
          ]
        }
      ]
    },
    {
      "cell_type": "markdown",
      "metadata": {
        "id": "t08kZJWVNkJc"
      },
      "source": [
        "##**Unzip()**\n",
        "\n",
        "zip() in conjunction with the * operator can be used to unzip a list."
      ]
    },
    {
      "cell_type": "code",
      "metadata": {
        "id": "jAB_kZncL2tO",
        "colab": {
          "base_uri": "https://localhost:8080/"
        },
        "outputId": "24f2e45a-ba46-4803-ce50-7011c6e9a916"
      },
      "source": [
        "\n",
        "zip_obj = [('0001', 'John'), ('0024', 'Bobs'), ('0027', 'Janny')] \n",
        "id, name = zip(*zip_obj)\n",
        "print(id)\n",
        "print(name)\n",
        "print(dict(zip_obj))\n"
      ],
      "execution_count": null,
      "outputs": [
        {
          "output_type": "stream",
          "name": "stdout",
          "text": [
            "('0001', '0024', '0027')\n",
            "('John', 'Bobs', 'Janny')\n",
            "{'0001': 'John', '0024': 'Bobs', '0027': 'Janny'}\n"
          ]
        }
      ]
    },
    {
      "cell_type": "code",
      "metadata": {
        "id": "QZwaJvmLOtAy"
      },
      "source": [
        "dict_name = {'John':'Doe', 'Ann':'Edward'}\n",
        "dict_job = {'Ann':'Engineer', 'John':'Accountant'}\n",
        "for (name, lst), ()in zip() \n"
      ],
      "execution_count": null,
      "outputs": []
    },
    {
      "cell_type": "markdown",
      "source": [
        "#Exercise 1\n",
        "Create the list of tuples with the first element being an index of the tuple and the second element being the element taken from “sector” at the tuple index position as follows: \n",
        "\n",
        "\n",
        "\n",
        "```\n",
        "sector=[\"Energy\", \"Agriculture\", \"Industry\", \"Technology\", \"Finance\", \"Forestry\", \"Transport\"]\n",
        "\n",
        "\n",
        "print(new_list)\n",
        "```\n",
        "Expected output:\n",
        "```\n",
        "[(0, 'Energy'), (1, 'Agriculture'), (2, 'Industry'), (3, 'Technology'), (4, 'Finance'), (5, 'Forestry'), (6, 'Transport')]\n",
        "```\n",
        "\n"
      ],
      "metadata": {
        "id": "4JavUbZRHdmh"
      }
    },
    {
      "cell_type": "code",
      "source": [
        "sector=[\"Energy\", \"Agriculture\", \"Industry\", \"Technology\", \"Finance\", \"Forestry\", \"Transport\"]\n",
        "\n",
        "rng1 = list(range(0,len(sector)))\n",
        "new_list = list(zip(rng1,sector))\n",
        "\n",
        "print(new_list)"
      ],
      "metadata": {
        "id": "wYaZbG6XUV-B",
        "colab": {
          "base_uri": "https://localhost:8080/"
        },
        "outputId": "9421fdeb-de68-4eac-9c0a-4504638f32e9"
      },
      "execution_count": null,
      "outputs": [
        {
          "output_type": "stream",
          "name": "stdout",
          "text": [
            "[(0, 'Energy'), (1, 'Agriculture'), (2, 'Industry'), (3, 'Technology'), (4, 'Finance'), (5, 'Forestry'), (6, 'Transport')]\n"
          ]
        }
      ]
    },
    {
      "cell_type": "markdown",
      "source": [
        "#Exercise 2\n",
        "Given the list of total_sales and prod_cost, write code to compute a list of  profit using zip function for parallel list traversing."
      ],
      "metadata": {
        "id": "ycnkBxUTIuj_"
      }
    },
    {
      "cell_type": "code",
      "metadata": {
        "id": "pgSSLEtDJv40",
        "colab": {
          "base_uri": "https://localhost:8080/"
        },
        "outputId": "12152b2f-a63e-4df2-cc91-a97b5ce71fd8"
      },
      "source": [
        "total_sales = [52000.00, 51000.00, 48000.00]\n",
        "prod_cost = [46800.00, 45900.00, 43200.00]\n",
        "profit = []\n",
        "for sales,cost in zip(total_sales,prod_cost):\n",
        "  profit.append(sales - cost)\n",
        "print(profit)"
      ],
      "execution_count": null,
      "outputs": [
        {
          "output_type": "stream",
          "name": "stdout",
          "text": [
            "[5200.0, 5100.0, 4800.0]\n"
          ]
        }
      ]
    },
    {
      "cell_type": "markdown",
      "source": [
        "# Comprehension\n",
        "In Python, you can create a new list using list comprehensions It is a shorthand of the for loop."
      ],
      "metadata": {
        "id": "Bc-9zdrR_eRD"
      }
    },
    {
      "cell_type": "code",
      "source": [
        "new_list = []\n",
        "for x in range(5):\n",
        "  new_list.append(x*x)\n",
        "print(new_list)"
      ],
      "metadata": {
        "colab": {
          "base_uri": "https://localhost:8080/"
        },
        "id": "OcQD0m2ZtK9X",
        "outputId": "e0106b65-5a89-4611-f1fc-8b28891d8fe2"
      },
      "execution_count": null,
      "outputs": [
        {
          "output_type": "stream",
          "name": "stdout",
          "text": [
            "[0, 1, 4, 9, 16]\n"
          ]
        }
      ]
    },
    {
      "cell_type": "code",
      "source": [
        "new_list_1 =  [x*x for x in range(5)]\n",
        "print(new_list_1)"
      ],
      "metadata": {
        "colab": {
          "base_uri": "https://localhost:8080/"
        },
        "id": "8xWb6iLYts-I",
        "outputId": "9f97d40c-3c9d-4b10-b857-1afa9b9677a6"
      },
      "execution_count": null,
      "outputs": [
        {
          "output_type": "stream",
          "name": "stdout",
          "text": [
            "[0, 1, 4, 9, 16]\n"
          ]
        }
      ]
    },
    {
      "cell_type": "code",
      "source": [
        "lst = [row for row in ['a','b','c']]\n",
        "print(lst)"
      ],
      "metadata": {
        "colab": {
          "base_uri": "https://localhost:8080/"
        },
        "id": "NB46joiEpk5g",
        "outputId": "d7e5037d-44ae-4644-99bb-28b720964e9e"
      },
      "execution_count": null,
      "outputs": [
        {
          "output_type": "stream",
          "name": "stdout",
          "text": [
            "['a', 'b', 'c']\n"
          ]
        }
      ]
    },
    {
      "cell_type": "markdown",
      "source": [
        "##A list comprehension consists of brackets containing \n",
        "* An expression followed by \n",
        "* A for clause, \n",
        "* then Zero or more for or if clauses."
      ],
      "metadata": {
        "id": "pC2o6nLluCqf"
      }
    },
    {
      "cell_type": "code",
      "source": [
        "new_list_1 =  [x*x for x in range(5) if x>2]\n",
        "print(new_list_1)"
      ],
      "metadata": {
        "colab": {
          "base_uri": "https://localhost:8080/"
        },
        "id": "J5tsJai1tZv3",
        "outputId": "53a28a5d-f658-44ac-a81c-ed75e91cda66"
      },
      "execution_count": null,
      "outputs": [
        {
          "output_type": "stream",
          "name": "stdout",
          "text": [
            "[9, 16]\n"
          ]
        }
      ]
    },
    {
      "cell_type": "markdown",
      "source": [
        "##Comprehension can be used to construct set and dict datatype as well.\n"
      ],
      "metadata": {
        "id": "nZqNP7_zC0Qg"
      }
    },
    {
      "cell_type": "code",
      "source": [
        "new_set_1 =  {x*x for x in range(15) if x>2} # Set comprehension\n",
        "print(new_set_1)"
      ],
      "metadata": {
        "colab": {
          "base_uri": "https://localhost:8080/"
        },
        "id": "aExJlEHOC8qQ",
        "outputId": "2a132d3b-fa07-4341-ac58-f68bd4f1851f"
      },
      "execution_count": null,
      "outputs": [
        {
          "output_type": "stream",
          "name": "stdout",
          "text": [
            "{64, 121, 36, 100, 196, 9, 169, 16, 49, 81, 144, 25}\n"
          ]
        }
      ]
    },
    {
      "cell_type": "code",
      "source": [
        "new_dict_1 =  {x:x*x for x in range(15) if x>2} # Dict comprehension\n",
        "print(new_dict_1)"
      ],
      "metadata": {
        "colab": {
          "base_uri": "https://localhost:8080/"
        },
        "id": "gp9ihpY4DF1n",
        "outputId": "1af04e88-452a-4f11-dc71-36cbe0c71eff"
      },
      "execution_count": null,
      "outputs": [
        {
          "output_type": "stream",
          "name": "stdout",
          "text": [
            "{3: 9, 4: 16, 5: 25, 6: 36, 7: 49, 8: 64, 9: 81, 10: 100, 11: 121, 12: 144, 13: 169, 14: 196}\n"
          ]
        }
      ]
    },
    {
      "cell_type": "markdown",
      "source": [
        "##However, comprehension can not be used to construct a tuple directly as tuple is an immutable datatype. \n",
        "***The workaround is to convert the resulting generator to tuple"
      ],
      "metadata": {
        "id": "bDUqYmmSDb5_"
      }
    },
    {
      "cell_type": "code",
      "source": [
        "new_tuple_1 =  (x*x for x in range(15) if x>2) # This comprehension generates a generator object\n",
        "print(new_tuple_1)"
      ],
      "metadata": {
        "colab": {
          "base_uri": "https://localhost:8080/"
        },
        "id": "p8UIQ4J1DRqQ",
        "outputId": "508642ba-072c-4da1-816f-299f90d4ce83"
      },
      "execution_count": null,
      "outputs": [
        {
          "output_type": "stream",
          "name": "stdout",
          "text": [
            "<generator object <genexpr> at 0x7fe38734bad0>\n"
          ]
        }
      ]
    },
    {
      "cell_type": "code",
      "source": [
        "print(tuple(new_tuple_1))"
      ],
      "metadata": {
        "colab": {
          "base_uri": "https://localhost:8080/"
        },
        "id": "-_4GIfwCDQUX",
        "outputId": "3beca2ff-f236-4930-f872-bc1436a28a99"
      },
      "execution_count": null,
      "outputs": [
        {
          "output_type": "stream",
          "name": "stdout",
          "text": [
            "(9, 16, 25, 36, 49, 64, 81, 100, 121, 144, 169, 196)\n"
          ]
        }
      ]
    },
    {
      "cell_type": "markdown",
      "source": [
        "Similar to other components, comprehension can be nested."
      ],
      "metadata": {
        "id": "WkZfZbH8ubYv"
      }
    },
    {
      "cell_type": "code",
      "source": [
        "lstoflist = [[row+str(i) for row in ['a','b','c']] for i in [1,2,3]]\n",
        "print(lstoflist)"
      ],
      "metadata": {
        "colab": {
          "base_uri": "https://localhost:8080/"
        },
        "id": "jlBLwBtOoUDX",
        "outputId": "7d9dbcbb-f3dc-4a15-b548-6f45e69b1d5d"
      },
      "execution_count": null,
      "outputs": [
        {
          "output_type": "stream",
          "name": "stdout",
          "text": [
            "[['a1', 'b1', 'c1'], ['a2', 'b2', 'c2'], ['a3', 'b3', 'c3']]\n"
          ]
        }
      ]
    },
    {
      "cell_type": "markdown",
      "source": [
        "We can use list comprehension to extract a desired elements from the inner list of list of list."
      ],
      "metadata": {
        "id": "_d7FErxcu-63"
      }
    },
    {
      "cell_type": "code",
      "source": [
        "ind_list = [[1,2,3],['a','b','c'],['I','II','III']]\n",
        "print(ind_list)\n",
        "\n",
        "first_item_list = [ind_list[i][0] for i in range(len(ind_list))]\n",
        "\n",
        "print(first_item_list)\n",
        "\n",
        "first_item_list = #...\n",
        "\n",
        "print(first_item_list)\n"
      ],
      "metadata": {
        "colab": {
          "base_uri": "https://localhost:8080/"
        },
        "id": "M9bMNVCqlw5X",
        "outputId": "2454032d-a3df-4f49-ac1d-0e58c747a0e5"
      },
      "execution_count": null,
      "outputs": [
        {
          "output_type": "stream",
          "name": "stdout",
          "text": [
            "[[1, 2, 3], ['a', 'b', 'c'], ['I', 'II', 'III']]\n",
            "[1, 'a', 'I']\n",
            "[1, 'I']\n"
          ]
        }
      ]
    },
    {
      "cell_type": "markdown",
      "source": [
        "We can also use comprehension to create a set"
      ],
      "metadata": {
        "id": "AhB7wVN9uWfX"
      }
    },
    {
      "cell_type": "code",
      "source": [
        "new_list_1 =  {x*x for x in range(5) if x>2}\n",
        "print(new_list_1)"
      ],
      "metadata": {
        "colab": {
          "base_uri": "https://localhost:8080/"
        },
        "id": "-qgDiejHuBLo",
        "outputId": "c1224596-20f5-4fa8-ddae-90fc93d14469"
      },
      "execution_count": null,
      "outputs": [
        {
          "output_type": "stream",
          "name": "stdout",
          "text": [
            "{16, 9}\n"
          ]
        }
      ]
    },
    {
      "cell_type": "markdown",
      "source": [
        "*** Comprehension with else statement"
      ],
      "metadata": {
        "id": "jmgSk-nCP7rr"
      }
    },
    {
      "cell_type": "code",
      "source": [
        "obj = [\"Even\" if i%2==0 else \"Odd\" for i in range(10)]\n",
        "print(obj)"
      ],
      "metadata": {
        "colab": {
          "base_uri": "https://localhost:8080/"
        },
        "id": "8lsYiFp6OFL0",
        "outputId": "c5f1c9e4-c943-456b-abf9-84616ef56aa3"
      },
      "execution_count": null,
      "outputs": [
        {
          "output_type": "stream",
          "name": "stdout",
          "text": [
            "['Even', 'Odd', 'Even', 'Odd', 'Even', 'Odd', 'Even', 'Odd', 'Even', 'Odd']\n"
          ]
        }
      ]
    },
    {
      "cell_type": "markdown",
      "source": [
        "We can also use comprehension to create a dictionary"
      ],
      "metadata": {
        "id": "Vrw208DTuwW3"
      }
    },
    {
      "cell_type": "code",
      "source": [
        "usr_name = {'Adam':'Blackman','Bobs':'Deelan', 'Russell':'crowe'}\n",
        "usr_age = {'Adam':23,'Bobs':25, 'Russell':45}\n",
        "usr_dict = {name+' ' + lstname: usr_age[name] for (name, lstname) in usr_name.items()}\n",
        "print(usr_dict)\n",
        "\n"
      ],
      "metadata": {
        "colab": {
          "base_uri": "https://localhost:8080/"
        },
        "id": "o4lk0dlEvTVl",
        "outputId": "8b57efc9-6100-4048-fd76-c0f79a1e558e"
      },
      "execution_count": null,
      "outputs": [
        {
          "output_type": "stream",
          "name": "stdout",
          "text": [
            "{'Adam Blackman': 23, 'Bobs Deelan': 25, 'Russell crowe': 45}\n"
          ]
        }
      ]
    },
    {
      "cell_type": "markdown",
      "source": [
        "#Exercise 3\n",
        "Write one list comprehension statement to produce the following list\n",
        "- list_a = [0 , 2, 4, 6, 8]\n",
        "- list_b = [1 , 2, 4, 8, 16, 32]\n",
        "- list_c = [0 , 1, 4, 9, 16, 25, 36, 49]\n",
        "- list_d = [0 , 1, 1, 2, 3, 5, 8, 13, 21]\n",
        "\n"
      ],
      "metadata": {
        "id": "l9j61Y27Lmul"
      }
    },
    {
      "cell_type": "code",
      "source": [
        "list_a = [i for i in range(9) if i%2 ==0]\n",
        "print(list_a)\n",
        "list_b = [2**i for i in range(6)]\n",
        "print(list_b)\n",
        "list_c = [i**2 for i in range(8)]\n",
        "print(list_c)\n",
        "\n",
        "fibo = [0,1]\n",
        "list_d = fibo[0:2] + [fibo.append(fibo[-1] + fibo[-2]) or fibo[-1] for i in range(7)]\n",
        "print(list_d)"
      ],
      "metadata": {
        "colab": {
          "base_uri": "https://localhost:8080/"
        },
        "id": "2gWve2ZdNZZj",
        "outputId": "ef44fad0-9023-4c8c-a821-0a02e6f187dd"
      },
      "execution_count": null,
      "outputs": [
        {
          "output_type": "stream",
          "name": "stdout",
          "text": [
            "[0, 2, 4, 6, 8]\n",
            "[1, 2, 4, 8, 16, 32]\n",
            "[0, 1, 4, 9, 16, 25, 36, 49]\n",
            "[0, 1, 1, 2, 3, 5, 8, 13, 21]\n"
          ]
        }
      ]
    },
    {
      "cell_type": "markdown",
      "source": [
        "#Exercise 4\n",
        "Write the equivalent for-loop structure for the following code.\n",
        "\n",
        "\n",
        "\n",
        "```\n",
        "[(x,y) for x in [1,2,3] for y in [4,5,6] if x>1  and y>4]\n",
        "```\n",
        "\n",
        "\n",
        "\n",
        "\n"
      ],
      "metadata": {
        "id": "TTwhwlUzrc1A"
      }
    },
    {
      "cell_type": "code",
      "source": [
        "[(x,y) for x in [1,2,3] for y in [4,5,6] if x>1  and y>4]\n",
        "\n"
      ],
      "metadata": {
        "colab": {
          "base_uri": "https://localhost:8080/"
        },
        "id": "mB7l_djccjtL",
        "outputId": "f2f65e18-9c7c-4590-fadf-1b597d7cf468"
      },
      "execution_count": null,
      "outputs": [
        {
          "output_type": "execute_result",
          "data": {
            "text/plain": [
              "[(2, 5), (2, 6), (3, 5), (3, 6)]"
            ]
          },
          "metadata": {},
          "execution_count": 11
        }
      ]
    },
    {
      "cell_type": "code",
      "source": [
        "list1 = []\n",
        "for i in [1,2,3]:\n",
        "  for j in[4,5,6]:\n",
        "    if i>1 and j>4:\n",
        "      list1.append((i,j))\n",
        "print(list1)"
      ],
      "metadata": {
        "colab": {
          "base_uri": "https://localhost:8080/"
        },
        "id": "3TY1EWK2OLYd",
        "outputId": "86719bf3-423a-4794-c4cc-f86d1199b5d7"
      },
      "execution_count": null,
      "outputs": [
        {
          "output_type": "stream",
          "name": "stdout",
          "text": [
            "[(2, 5), (2, 6), (3, 5), (3, 6)]\n"
          ]
        }
      ]
    },
    {
      "cell_type": "markdown",
      "source": [
        "#Exercise 5\n",
        "Write nested list comprehension code to get the following result?\n",
        "\n",
        "```\n",
        "print([[… for row in […]] for i in […]])\n",
        "```\n",
        "Expected result\n",
        "\n",
        "1. \n",
        "```\n",
        "[[‘a01’, ‘a02’, ‘a03’, ‘a04’], [‘b01’, ‘b02’, ‘b03’, ‘b04’], [‘d01’, ‘d02’, ‘d03’, ‘d04’], [‘z01’, ‘z02’, ‘z03’, ‘z04’]]\n",
        "```\n",
        "2. \n",
        "```\n",
        "[[‘1101a’, ‘1102a’, …, ‘1110a’], [‘1101z’, ‘1102z’, …, ‘1110z’], [‘1101y’, ‘1102y’, …, ‘1110y’], [‘1101b’, ‘1102b’, …, ‘1110b’]]\n",
        "```\n",
        "\n"
      ],
      "metadata": {
        "id": "gcAmZdcHrxYX"
      }
    },
    {
      "cell_type": "code",
      "source": [
        "#1\n",
        "print([[j+i for i in ['01','02','03','04']] for j in ['a','b','d','z']])"
      ],
      "metadata": {
        "colab": {
          "base_uri": "https://localhost:8080/"
        },
        "id": "ribCk7gmdX07",
        "outputId": "cc50b2ab-e386-49fc-f717-9f8589c32d31"
      },
      "execution_count": null,
      "outputs": [
        {
          "output_type": "stream",
          "name": "stdout",
          "text": [
            "[['a01', 'a02', 'a03', 'a04'], ['b01', 'b02', 'b03', 'b04'], ['d01', 'd02', 'd03', 'd04'], ['z01', 'z02', 'z03', 'z04']]\n"
          ]
        }
      ]
    },
    {
      "cell_type": "code",
      "source": [
        "#2\n",
        "print([[j+i for i in ['1101','1102','1103','1104','1105','1106','1107','1108','1109','1110']] for j in ['a','z','y','b']])"
      ],
      "metadata": {
        "colab": {
          "base_uri": "https://localhost:8080/"
        },
        "id": "7NTmLaIbPfP9",
        "outputId": "21080e0e-6169-4a1d-edf6-e7c4eeccb80e"
      },
      "execution_count": null,
      "outputs": [
        {
          "output_type": "stream",
          "name": "stdout",
          "text": [
            "[['a1101', 'a1102', 'a1103', 'a1104', 'a1105', 'a1106', 'a1107', 'a1108', 'a1109', 'a1110'], ['z1101', 'z1102', 'z1103', 'z1104', 'z1105', 'z1106', 'z1107', 'z1108', 'z1109', 'z1110'], ['y1101', 'y1102', 'y1103', 'y1104', 'y1105', 'y1106', 'y1107', 'y1108', 'y1109', 'y1110'], ['b1101', 'b1102', 'b1103', 'b1104', 'b1105', 'b1106', 'b1107', 'b1108', 'b1109', 'b1110']]\n"
          ]
        }
      ]
    },
    {
      "cell_type": "markdown",
      "source": [
        "# Question 1\n",
        "Write code to merge the record data from the two dicts given below into one dict using by putting the value together as a tuple.\n",
        "\n",
        "```\n",
        "dict_name = {'John':'Doe', 'Ann':'Edwared', 'Harry':'Clifford'} \n",
        "dict_job = {'John':'Engineer', ’Ann':'Accountant', 'Harry':'Secretary’} \n",
        "dict_age = {'John’:50, ’Ann’: 45, 'Harry’: 46}\n",
        "```\n",
        "Expected output\n",
        "```\n",
        "{'John': ('Doe', 'Engineer'), 'Ann': ('Edwared', 'Accountant'), 'Harry': ('Clifford', 'Secretary')}\n",
        "```\n",
        "\n"
      ],
      "metadata": {
        "id": "MCqsC8tPTn0f"
      }
    },
    {
      "cell_type": "code",
      "source": [
        "dict_name = {'John':'Doe', 'Ann':'Edwared', 'Harry':'Clifford'} \n",
        "dict_job = {'John':'Engineer', 'Ann':'Accountant', 'Harry':'Secretary'} \n",
        "dict_age = {'John':50, 'Ann': 45, 'Harry': 46}\n",
        "tuplelist = []\n",
        "keylist = []\n",
        "for i in dict_name.keys():\n",
        "  keylist.append(i)\n",
        "for j, k in zip(dict_name.values(),dict_job.values()):\n",
        "  tuplelist.append((j,k))\n",
        "for l in range (0,len(keylist)):\n",
        "  dict_age[keylist[l]] = tuplelist[l]\n",
        "print(dict_age)"
      ],
      "metadata": {
        "colab": {
          "base_uri": "https://localhost:8080/"
        },
        "id": "Vx5DmBiPQbwj",
        "outputId": "02364a5a-0819-420c-c62b-86ea2524fdcb"
      },
      "execution_count": 2,
      "outputs": [
        {
          "output_type": "stream",
          "name": "stdout",
          "text": [
            "{'John': ('Doe', 'Engineer'), 'Ann': ('Edwared', 'Accountant'), 'Harry': ('Clifford', 'Secretary')}\n"
          ]
        }
      ]
    },
    {
      "cell_type": "markdown",
      "source": [
        "#  Question 2\n",
        "Write code to replace the following for loop with list comprehension\n",
        "\n",
        "\n",
        "```\n",
        "list_a = [1,2,3,4] \n",
        "list_b = ['one','two','three','four'] \n",
        "list_new = [] \n",
        "for a,b in zip(list_a,list_b): \n",
        "   list_new.append(str(a) + ' is ' + b + '.') \n",
        "   print(list_new)\n",
        "```\n",
        "Expected output\n",
        "```\n",
        "['1 is one.', '2 is two.', '3 is three.', '4 is four.']\n",
        "```\n"
      ],
      "metadata": {
        "id": "i_yqAQuwxH0n"
      }
    },
    {
      "cell_type": "code",
      "source": [
        "list_a = [1,2,3,4] \n",
        "list_b = ['one','two','three','four']\n",
        "print([(str(a)+' is '+b) for (a,b) in zip(list_a,list_b)])"
      ],
      "metadata": {
        "colab": {
          "base_uri": "https://localhost:8080/"
        },
        "id": "FfL2pVfSH8hm",
        "outputId": "386da46e-a338-44fe-e8e7-5803f2857c14"
      },
      "execution_count": 10,
      "outputs": [
        {
          "output_type": "stream",
          "name": "stdout",
          "text": [
            "['1 is one', '2 is two', '3 is three', '4 is four']\n"
          ]
        }
      ]
    }
  ]
}